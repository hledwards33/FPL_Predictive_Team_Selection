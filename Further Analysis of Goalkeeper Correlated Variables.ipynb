{
 "cells": [
  {
   "cell_type": "code",
   "execution_count": 2,
   "id": "cb5d0af6",
   "metadata": {},
   "outputs": [],
   "source": [
    "import pandas as pd\n",
    "import seaborn as sns\n",
    "import os\n",
    "import matplotlib.pyplot as plt"
   ]
  },
  {
   "cell_type": "code",
   "execution_count": 3,
   "id": "82d64532",
   "metadata": {},
   "outputs": [
    {
     "data": {
      "text/html": [
       "<div>\n",
       "<style scoped>\n",
       "    .dataframe tbody tr th:only-of-type {\n",
       "        vertical-align: middle;\n",
       "    }\n",
       "\n",
       "    .dataframe tbody tr th {\n",
       "        vertical-align: top;\n",
       "    }\n",
       "\n",
       "    .dataframe thead th {\n",
       "        text-align: right;\n",
       "    }\n",
       "</style>\n",
       "<table border=\"1\" class=\"dataframe\">\n",
       "  <thead>\n",
       "    <tr style=\"text-align: right;\">\n",
       "      <th></th>\n",
       "      <th>Season</th>\n",
       "      <th>name</th>\n",
       "      <th>position</th>\n",
       "      <th>team</th>\n",
       "      <th>total_points</th>\n",
       "      <th>bps</th>\n",
       "      <th>clean_sheets</th>\n",
       "      <th>minutes</th>\n",
       "      <th>bonus</th>\n",
       "      <th>influence</th>\n",
       "      <th>ict_index</th>\n",
       "      <th>saves</th>\n",
       "      <th>value</th>\n",
       "      <th>selected</th>\n",
       "      <th>penalties_saved</th>\n",
       "      <th>transfers_in</th>\n",
       "    </tr>\n",
       "  </thead>\n",
       "  <tbody>\n",
       "    <tr>\n",
       "      <th>0</th>\n",
       "      <td>2021-22</td>\n",
       "      <td>David de Gea</td>\n",
       "      <td>GK</td>\n",
       "      <td>Man Utd</td>\n",
       "      <td>2</td>\n",
       "      <td>17</td>\n",
       "      <td>0</td>\n",
       "      <td>90</td>\n",
       "      <td>0</td>\n",
       "      <td>34.4</td>\n",
       "      <td>3.4</td>\n",
       "      <td>5</td>\n",
       "      <td>50</td>\n",
       "      <td>473518</td>\n",
       "      <td>0</td>\n",
       "      <td>19470</td>\n",
       "    </tr>\n",
       "    <tr>\n",
       "      <th>1</th>\n",
       "      <td>2021-22</td>\n",
       "      <td>Tom Heaton</td>\n",
       "      <td>GK</td>\n",
       "      <td>Man Utd</td>\n",
       "      <td>0</td>\n",
       "      <td>0</td>\n",
       "      <td>0</td>\n",
       "      <td>0</td>\n",
       "      <td>0</td>\n",
       "      <td>0.0</td>\n",
       "      <td>0.0</td>\n",
       "      <td>0</td>\n",
       "      <td>40</td>\n",
       "      <td>42318</td>\n",
       "      <td>0</td>\n",
       "      <td>222</td>\n",
       "    </tr>\n",
       "    <tr>\n",
       "      <th>2</th>\n",
       "      <td>2021-22</td>\n",
       "      <td>Dean Henderson</td>\n",
       "      <td>GK</td>\n",
       "      <td>Man Utd</td>\n",
       "      <td>0</td>\n",
       "      <td>0</td>\n",
       "      <td>0</td>\n",
       "      <td>0</td>\n",
       "      <td>0</td>\n",
       "      <td>0.0</td>\n",
       "      <td>0.0</td>\n",
       "      <td>0</td>\n",
       "      <td>47</td>\n",
       "      <td>36124</td>\n",
       "      <td>0</td>\n",
       "      <td>71</td>\n",
       "    </tr>\n",
       "    <tr>\n",
       "      <th>3</th>\n",
       "      <td>2021-22</td>\n",
       "      <td>Bernd Leno</td>\n",
       "      <td>GK</td>\n",
       "      <td>Arsenal</td>\n",
       "      <td>0</td>\n",
       "      <td>0</td>\n",
       "      <td>0</td>\n",
       "      <td>0</td>\n",
       "      <td>0</td>\n",
       "      <td>0.0</td>\n",
       "      <td>0.0</td>\n",
       "      <td>0</td>\n",
       "      <td>46</td>\n",
       "      <td>83324</td>\n",
       "      <td>0</td>\n",
       "      <td>321</td>\n",
       "    </tr>\n",
       "    <tr>\n",
       "      <th>4</th>\n",
       "      <td>2021-22</td>\n",
       "      <td>Aaron Ramsdale</td>\n",
       "      <td>GK</td>\n",
       "      <td>Arsenal</td>\n",
       "      <td>3</td>\n",
       "      <td>23</td>\n",
       "      <td>0</td>\n",
       "      <td>90</td>\n",
       "      <td>0</td>\n",
       "      <td>47.4</td>\n",
       "      <td>4.7</td>\n",
       "      <td>7</td>\n",
       "      <td>49</td>\n",
       "      <td>1125402</td>\n",
       "      <td>0</td>\n",
       "      <td>74772</td>\n",
       "    </tr>\n",
       "  </tbody>\n",
       "</table>\n",
       "</div>"
      ],
      "text/plain": [
       "    Season            name position     team  total_points  bps  clean_sheets  \\\n",
       "0  2021-22    David de Gea       GK  Man Utd             2   17             0   \n",
       "1  2021-22      Tom Heaton       GK  Man Utd             0    0             0   \n",
       "2  2021-22  Dean Henderson       GK  Man Utd             0    0             0   \n",
       "3  2021-22      Bernd Leno       GK  Arsenal             0    0             0   \n",
       "4  2021-22  Aaron Ramsdale       GK  Arsenal             3   23             0   \n",
       "\n",
       "   minutes  bonus  influence  ict_index  saves  value  selected  \\\n",
       "0       90      0       34.4        3.4      5     50    473518   \n",
       "1        0      0        0.0        0.0      0     40     42318   \n",
       "2        0      0        0.0        0.0      0     47     36124   \n",
       "3        0      0        0.0        0.0      0     46     83324   \n",
       "4       90      0       47.4        4.7      7     49   1125402   \n",
       "\n",
       "   penalties_saved  transfers_in  \n",
       "0                0         19470  \n",
       "1                0           222  \n",
       "2                0            71  \n",
       "3                0           321  \n",
       "4                0         74772  "
      ]
     },
     "execution_count": 3,
     "metadata": {},
     "output_type": "execute_result"
    }
   ],
   "source": [
    "data_path = os.getcwd() + \"\\Data\\Transformed_Data\\goalkeepers_correlated.csv\"\n",
    "\n",
    "df = pd.read_csv(data_path)\n",
    "df.head()"
   ]
  },
  {
   "cell_type": "code",
   "execution_count": 4,
   "id": "88f195f3",
   "metadata": {},
   "outputs": [
    {
     "data": {
      "text/plain": [
       "<AxesSubplot:>"
      ]
     },
     "execution_count": 4,
     "metadata": {},
     "output_type": "execute_result"
    },
    {
     "data": {
      "image/png": "[encoded data removed]",
      "text/plain": [
       "<Figure size 720x576 with 2 Axes>"
      ]
     },
     "metadata": {
      "needs_background": "light"
     },
     "output_type": "display_data"
    }
   ],
   "source": [
    "plt.figure(figsize=(10,8))\n",
    "sns.heatmap(df.corr(), annot=True, cmap='viridis')"
   ]
  },
  {
   "cell_type": "code",
   "execution_count": 5,
   "id": "bbdf5f60",
   "metadata": {},
   "outputs": [
    {
     "name": "stdout",
     "output_type": "stream",
     "text": [
      "<class 'pandas.core.frame.DataFrame'>\n",
      "RangeIndex: 9167 entries, 0 to 9166\n",
      "Data columns (total 16 columns):\n",
      " #   Column           Non-Null Count  Dtype  \n",
      "---  ------           --------------  -----  \n",
      " 0   Season           9167 non-null   object \n",
      " 1   name             9167 non-null   object \n",
      " 2   position         9167 non-null   object \n",
      " 3   team             9167 non-null   object \n",
      " 4   total_points     9167 non-null   int64  \n",
      " 5   bps              9167 non-null   int64  \n",
      " 6   clean_sheets     9167 non-null   int64  \n",
      " 7   minutes          9167 non-null   int64  \n",
      " 8   bonus            9167 non-null   int64  \n",
      " 9   influence        9167 non-null   float64\n",
      " 10  ict_index        9167 non-null   float64\n",
      " 11  saves            9167 non-null   int64  \n",
      " 12  value            9167 non-null   int64  \n",
      " 13  selected         9167 non-null   int64  \n",
      " 14  penalties_saved  9167 non-null   int64  \n",
      " 15  transfers_in     9167 non-null   int64  \n",
      "dtypes: float64(2), int64(10), object(4)\n",
      "memory usage: 1.1+ MB\n"
     ]
    }
   ],
   "source": [
    "df.info()"
   ]
  },
  {
   "cell_type": "code",
   "execution_count": 6,
   "id": "1b2488f0",
   "metadata": {},
   "outputs": [
    {
     "data": {
      "text/html": [
       "<div>\n",
       "<style scoped>\n",
       "    .dataframe tbody tr th:only-of-type {\n",
       "        vertical-align: middle;\n",
       "    }\n",
       "\n",
       "    .dataframe tbody tr th {\n",
       "        vertical-align: top;\n",
       "    }\n",
       "\n",
       "    .dataframe thead th {\n",
       "        text-align: right;\n",
       "    }\n",
       "</style>\n",
       "<table border=\"1\" class=\"dataframe\">\n",
       "  <thead>\n",
       "    <tr style=\"text-align: right;\">\n",
       "      <th></th>\n",
       "      <th>count</th>\n",
       "      <th>mean</th>\n",
       "      <th>std</th>\n",
       "      <th>min</th>\n",
       "      <th>25%</th>\n",
       "      <th>50%</th>\n",
       "      <th>75%</th>\n",
       "      <th>max</th>\n",
       "    </tr>\n",
       "  </thead>\n",
       "  <tbody>\n",
       "    <tr>\n",
       "      <th>total_points</th>\n",
       "      <td>9167.0</td>\n",
       "      <td>1.371550</td>\n",
       "      <td>2.490709</td>\n",
       "      <td>-3.0</td>\n",
       "      <td>0.0</td>\n",
       "      <td>0.0</td>\n",
       "      <td>2.0</td>\n",
       "      <td>16.0</td>\n",
       "    </tr>\n",
       "    <tr>\n",
       "      <th>bps</th>\n",
       "      <td>9167.0</td>\n",
       "      <td>6.811280</td>\n",
       "      <td>9.983379</td>\n",
       "      <td>-7.0</td>\n",
       "      <td>0.0</td>\n",
       "      <td>0.0</td>\n",
       "      <td>14.0</td>\n",
       "      <td>54.0</td>\n",
       "    </tr>\n",
       "    <tr>\n",
       "      <th>clean_sheets</th>\n",
       "      <td>9167.0</td>\n",
       "      <td>0.105596</td>\n",
       "      <td>0.307337</td>\n",
       "      <td>0.0</td>\n",
       "      <td>0.0</td>\n",
       "      <td>0.0</td>\n",
       "      <td>0.0</td>\n",
       "      <td>1.0</td>\n",
       "    </tr>\n",
       "    <tr>\n",
       "      <th>minutes</th>\n",
       "      <td>9167.0</td>\n",
       "      <td>33.220137</td>\n",
       "      <td>43.339547</td>\n",
       "      <td>0.0</td>\n",
       "      <td>0.0</td>\n",
       "      <td>0.0</td>\n",
       "      <td>90.0</td>\n",
       "      <td>90.0</td>\n",
       "    </tr>\n",
       "    <tr>\n",
       "      <th>bonus</th>\n",
       "      <td>9167.0</td>\n",
       "      <td>0.107342</td>\n",
       "      <td>0.478467</td>\n",
       "      <td>0.0</td>\n",
       "      <td>0.0</td>\n",
       "      <td>0.0</td>\n",
       "      <td>0.0</td>\n",
       "      <td>3.0</td>\n",
       "    </tr>\n",
       "    <tr>\n",
       "      <th>influence</th>\n",
       "      <td>9167.0</td>\n",
       "      <td>8.332235</td>\n",
       "      <td>13.811704</td>\n",
       "      <td>0.0</td>\n",
       "      <td>0.0</td>\n",
       "      <td>0.0</td>\n",
       "      <td>14.4</td>\n",
       "      <td>102.8</td>\n",
       "    </tr>\n",
       "    <tr>\n",
       "      <th>ict_index</th>\n",
       "      <td>9167.0</td>\n",
       "      <td>0.847627</td>\n",
       "      <td>1.407785</td>\n",
       "      <td>0.0</td>\n",
       "      <td>0.0</td>\n",
       "      <td>0.0</td>\n",
       "      <td>1.5</td>\n",
       "      <td>10.4</td>\n",
       "    </tr>\n",
       "    <tr>\n",
       "      <th>saves</th>\n",
       "      <td>9167.0</td>\n",
       "      <td>1.081161</td>\n",
       "      <td>1.850324</td>\n",
       "      <td>0.0</td>\n",
       "      <td>0.0</td>\n",
       "      <td>0.0</td>\n",
       "      <td>2.0</td>\n",
       "      <td>14.0</td>\n",
       "    </tr>\n",
       "    <tr>\n",
       "      <th>value</th>\n",
       "      <td>9167.0</td>\n",
       "      <td>45.662049</td>\n",
       "      <td>4.898880</td>\n",
       "      <td>39.0</td>\n",
       "      <td>42.0</td>\n",
       "      <td>45.0</td>\n",
       "      <td>49.0</td>\n",
       "      <td>63.0</td>\n",
       "    </tr>\n",
       "    <tr>\n",
       "      <th>selected</th>\n",
       "      <td>9167.0</td>\n",
       "      <td>238444.637395</td>\n",
       "      <td>399008.206757</td>\n",
       "      <td>0.0</td>\n",
       "      <td>9576.0</td>\n",
       "      <td>55744.0</td>\n",
       "      <td>309691.0</td>\n",
       "      <td>3383221.0</td>\n",
       "    </tr>\n",
       "    <tr>\n",
       "      <th>penalties_saved</th>\n",
       "      <td>9167.0</td>\n",
       "      <td>0.007963</td>\n",
       "      <td>0.090105</td>\n",
       "      <td>0.0</td>\n",
       "      <td>0.0</td>\n",
       "      <td>0.0</td>\n",
       "      <td>0.0</td>\n",
       "      <td>2.0</td>\n",
       "    </tr>\n",
       "    <tr>\n",
       "      <th>transfers_in</th>\n",
       "      <td>9167.0</td>\n",
       "      <td>9293.837133</td>\n",
       "      <td>24968.914692</td>\n",
       "      <td>0.0</td>\n",
       "      <td>64.5</td>\n",
       "      <td>688.0</td>\n",
       "      <td>7079.0</td>\n",
       "      <td>459020.0</td>\n",
       "    </tr>\n",
       "  </tbody>\n",
       "</table>\n",
       "</div>"
      ],
      "text/plain": [
       "                  count           mean            std   min     25%      50%  \\\n",
       "total_points     9167.0       1.371550       2.490709  -3.0     0.0      0.0   \n",
       "bps              9167.0       6.811280       9.983379  -7.0     0.0      0.0   \n",
       "clean_sheets     9167.0       0.105596       0.307337   0.0     0.0      0.0   \n",
       "minutes          9167.0      33.220137      43.339547   0.0     0.0      0.0   \n",
       "bonus            9167.0       0.107342       0.478467   0.0     0.0      0.0   \n",
       "influence        9167.0       8.332235      13.811704   0.0     0.0      0.0   \n",
       "ict_index        9167.0       0.847627       1.407785   0.0     0.0      0.0   \n",
       "saves            9167.0       1.081161       1.850324   0.0     0.0      0.0   \n",
       "value            9167.0      45.662049       4.898880  39.0    42.0     45.0   \n",
       "selected         9167.0  238444.637395  399008.206757   0.0  9576.0  55744.0   \n",
       "penalties_saved  9167.0       0.007963       0.090105   0.0     0.0      0.0   \n",
       "transfers_in     9167.0    9293.837133   24968.914692   0.0    64.5    688.0   \n",
       "\n",
       "                      75%        max  \n",
       "total_points          2.0       16.0  \n",
       "bps                  14.0       54.0  \n",
       "clean_sheets          0.0        1.0  \n",
       "minutes              90.0       90.0  \n",
       "bonus                 0.0        3.0  \n",
       "influence            14.4      102.8  \n",
       "ict_index             1.5       10.4  \n",
       "saves                 2.0       14.0  \n",
       "value                49.0       63.0  \n",
       "selected         309691.0  3383221.0  \n",
       "penalties_saved       0.0        2.0  \n",
       "transfers_in       7079.0   459020.0  "
      ]
     },
     "execution_count": 6,
     "metadata": {},
     "output_type": "execute_result"
    }
   ],
   "source": [
    "df.describe().T"
   ]
  },
  {
   "cell_type": "markdown",
   "id": "695dc737",
   "metadata": {},
   "source": [
    "Let's look at the distribution of total points."
   ]
  },
  {
   "cell_type": "code",
   "execution_count": 7,
   "id": "6ae624c6",
   "metadata": {},
   "outputs": [
    {
     "name": "stderr",
     "output_type": "stream",
     "text": [
      "C:\\Users\\GV147BE\\Anaconda3\\lib\\site-packages\\seaborn\\distributions.py:2619: FutureWarning: `distplot` is a deprecated function and will be removed in a future version. Please adapt your code to use either `displot` (a figure-level function with similar flexibility) or `histplot` (an axes-level function for histograms).\n",
      "  warnings.warn(msg, FutureWarning)\n"
     ]
    },
    {
     "data": {
      "text/plain": [
       "<AxesSubplot:xlabel='total_points', ylabel='Density'>"
      ]
     },
     "execution_count": 7,
     "metadata": {},
     "output_type": "execute_result"
    },
    {
     "data": {
      "image/png": "[encoded data removed]",
      "text/plain": [
       "<Figure size 432x288 with 1 Axes>"
      ]
     },
     "metadata": {
      "needs_background": "light"
     },
     "output_type": "display_data"
    }
   ],
   "source": [
    "sns.distplot(df['total_points'])"
   ]
  },
  {
   "cell_type": "markdown",
   "id": "18960879",
   "metadata": {},
   "source": [
    "We can see that there are a large amount of 0 total_points entries, we need to check if this is because they did not play any minutes."
   ]
  },
  {
   "cell_type": "code",
   "execution_count": 8,
   "id": "2d39ad23",
   "metadata": {},
   "outputs": [
    {
     "name": "stdout",
     "output_type": "stream",
     "text": [
      "Not Played:  5753\n",
      "Played:  3414\n",
      "% Not Played:  62.75771790116723 %\n"
     ]
    }
   ],
   "source": [
    "print('Not Played: ', len(df[df['minutes']==0]))\n",
    "print('Played: ', len(df[df['minutes']!=0]))\n",
    "print('% Not Played: ', len(df[df['minutes']==0])/len(df)*100,'%')"
   ]
  },
  {
   "cell_type": "markdown",
   "id": "9be7047a",
   "metadata": {},
   "source": [
    "We need to remove 62.7% of our data points... not good! We may have to consider combining goalkeepers and defenders as we only have 3,414 goalkeeper datapoints."
   ]
  },
  {
   "cell_type": "code",
   "execution_count": 9,
   "id": "819860f9",
   "metadata": {},
   "outputs": [
    {
     "data": {
      "text/html": [
       "<div>\n",
       "<style scoped>\n",
       "    .dataframe tbody tr th:only-of-type {\n",
       "        vertical-align: middle;\n",
       "    }\n",
       "\n",
       "    .dataframe tbody tr th {\n",
       "        vertical-align: top;\n",
       "    }\n",
       "\n",
       "    .dataframe thead th {\n",
       "        text-align: right;\n",
       "    }\n",
       "</style>\n",
       "<table border=\"1\" class=\"dataframe\">\n",
       "  <thead>\n",
       "    <tr style=\"text-align: right;\">\n",
       "      <th></th>\n",
       "      <th>Season</th>\n",
       "      <th>name</th>\n",
       "      <th>position</th>\n",
       "      <th>team</th>\n",
       "      <th>total_points</th>\n",
       "      <th>bps</th>\n",
       "      <th>clean_sheets</th>\n",
       "      <th>minutes</th>\n",
       "      <th>bonus</th>\n",
       "      <th>influence</th>\n",
       "      <th>ict_index</th>\n",
       "      <th>saves</th>\n",
       "      <th>value</th>\n",
       "      <th>selected</th>\n",
       "      <th>penalties_saved</th>\n",
       "      <th>transfers_in</th>\n",
       "    </tr>\n",
       "  </thead>\n",
       "  <tbody>\n",
       "    <tr>\n",
       "      <th>0</th>\n",
       "      <td>2021-22</td>\n",
       "      <td>David de Gea</td>\n",
       "      <td>GK</td>\n",
       "      <td>Man Utd</td>\n",
       "      <td>2</td>\n",
       "      <td>17</td>\n",
       "      <td>0</td>\n",
       "      <td>90</td>\n",
       "      <td>0</td>\n",
       "      <td>34.4</td>\n",
       "      <td>3.4</td>\n",
       "      <td>5</td>\n",
       "      <td>50</td>\n",
       "      <td>473518</td>\n",
       "      <td>0</td>\n",
       "      <td>19470</td>\n",
       "    </tr>\n",
       "    <tr>\n",
       "      <th>4</th>\n",
       "      <td>2021-22</td>\n",
       "      <td>Aaron Ramsdale</td>\n",
       "      <td>GK</td>\n",
       "      <td>Arsenal</td>\n",
       "      <td>3</td>\n",
       "      <td>23</td>\n",
       "      <td>0</td>\n",
       "      <td>90</td>\n",
       "      <td>0</td>\n",
       "      <td>47.4</td>\n",
       "      <td>4.7</td>\n",
       "      <td>7</td>\n",
       "      <td>49</td>\n",
       "      <td>1125402</td>\n",
       "      <td>0</td>\n",
       "      <td>74772</td>\n",
       "    </tr>\n",
       "    <tr>\n",
       "      <th>10</th>\n",
       "      <td>2021-22</td>\n",
       "      <td>Hugo Lloris</td>\n",
       "      <td>GK</td>\n",
       "      <td>Spurs</td>\n",
       "      <td>7</td>\n",
       "      <td>26</td>\n",
       "      <td>1</td>\n",
       "      <td>90</td>\n",
       "      <td>1</td>\n",
       "      <td>20.4</td>\n",
       "      <td>2.0</td>\n",
       "      <td>2</td>\n",
       "      <td>54</td>\n",
       "      <td>743921</td>\n",
       "      <td>0</td>\n",
       "      <td>13230</td>\n",
       "    </tr>\n",
       "    <tr>\n",
       "      <th>12</th>\n",
       "      <td>2021-22</td>\n",
       "      <td>Álvaro Fernández</td>\n",
       "      <td>GK</td>\n",
       "      <td>Brentford</td>\n",
       "      <td>2</td>\n",
       "      <td>20</td>\n",
       "      <td>0</td>\n",
       "      <td>90</td>\n",
       "      <td>0</td>\n",
       "      <td>38.8</td>\n",
       "      <td>3.9</td>\n",
       "      <td>5</td>\n",
       "      <td>45</td>\n",
       "      <td>50139</td>\n",
       "      <td>0</td>\n",
       "      <td>5442</td>\n",
       "    </tr>\n",
       "    <tr>\n",
       "      <th>20</th>\n",
       "      <td>2021-22</td>\n",
       "      <td>Jordan Pickford</td>\n",
       "      <td>GK</td>\n",
       "      <td>Everton</td>\n",
       "      <td>1</td>\n",
       "      <td>15</td>\n",
       "      <td>0</td>\n",
       "      <td>90</td>\n",
       "      <td>0</td>\n",
       "      <td>18.8</td>\n",
       "      <td>1.9</td>\n",
       "      <td>3</td>\n",
       "      <td>50</td>\n",
       "      <td>384835</td>\n",
       "      <td>0</td>\n",
       "      <td>878</td>\n",
       "    </tr>\n",
       "  </tbody>\n",
       "</table>\n",
       "</div>"
      ],
      "text/plain": [
       "     Season              name position       team  total_points  bps  \\\n",
       "0   2021-22      David de Gea       GK    Man Utd             2   17   \n",
       "4   2021-22    Aaron Ramsdale       GK    Arsenal             3   23   \n",
       "10  2021-22       Hugo Lloris       GK      Spurs             7   26   \n",
       "12  2021-22  Álvaro Fernández       GK  Brentford             2   20   \n",
       "20  2021-22   Jordan Pickford       GK    Everton             1   15   \n",
       "\n",
       "    clean_sheets  minutes  bonus  influence  ict_index  saves  value  \\\n",
       "0              0       90      0       34.4        3.4      5     50   \n",
       "4              0       90      0       47.4        4.7      7     49   \n",
       "10             1       90      1       20.4        2.0      2     54   \n",
       "12             0       90      0       38.8        3.9      5     45   \n",
       "20             0       90      0       18.8        1.9      3     50   \n",
       "\n",
       "    selected  penalties_saved  transfers_in  \n",
       "0     473518                0         19470  \n",
       "4    1125402                0         74772  \n",
       "10    743921                0         13230  \n",
       "12     50139                0          5442  \n",
       "20    384835                0           878  "
      ]
     },
     "execution_count": 9,
     "metadata": {},
     "output_type": "execute_result"
    }
   ],
   "source": [
    "df = df[df['minutes']!=0]\n",
    "df.head()"
   ]
  },
  {
   "cell_type": "code",
   "execution_count": 10,
   "id": "2e1feb1d",
   "metadata": {},
   "outputs": [
    {
     "name": "stderr",
     "output_type": "stream",
     "text": [
      "C:\\Users\\GV147BE\\Anaconda3\\lib\\site-packages\\seaborn\\distributions.py:2619: FutureWarning: `distplot` is a deprecated function and will be removed in a future version. Please adapt your code to use either `displot` (a figure-level function with similar flexibility) or `histplot` (an axes-level function for histograms).\n",
      "  warnings.warn(msg, FutureWarning)\n"
     ]
    },
    {
     "data": {
      "text/plain": [
       "<AxesSubplot:xlabel='total_points', ylabel='Density'>"
      ]
     },
     "execution_count": 10,
     "metadata": {},
     "output_type": "execute_result"
    },
    {
     "data": {
      "image/png": "[encoded data removed]",
      "text/plain": [
       "<Figure size 432x288 with 1 Axes>"
      ]
     },
     "metadata": {
      "needs_background": "light"
     },
     "output_type": "display_data"
    }
   ],
   "source": [
    "#let's look at our dist plot again\n",
    "sns.distplot(df['total_points'])"
   ]
  },
  {
   "cell_type": "code",
   "execution_count": 11,
   "id": "d58c42e8",
   "metadata": {},
   "outputs": [
    {
     "data": {
      "text/plain": [
       "-3        1\n",
       "-2        2\n",
       " 16       3\n",
       " 13       3\n",
       " 15       6\n",
       " 14       6\n",
       " 12       9\n",
       "-1       11\n",
       " 11      46\n",
       " 5       56\n",
       " 10      82\n",
       " 4       89\n",
       " 0       95\n",
       " 8      111\n",
       " 9      137\n",
       " 7      176\n",
       " 6      449\n",
       " 3      512\n",
       " 1      562\n",
       " 2     1058\n",
       "Name: total_points, dtype: int64"
      ]
     },
     "execution_count": 11,
     "metadata": {},
     "output_type": "execute_result"
    }
   ],
   "source": [
    "df['total_points'].value_counts().sort_values()"
   ]
  },
  {
   "cell_type": "markdown",
   "id": "f8ea9318",
   "metadata": {},
   "source": [
    "We can see that the most frequent score for a goalkeeper is 2 points."
   ]
  },
  {
   "cell_type": "markdown",
   "id": "cb2c231e",
   "metadata": {},
   "source": [
    "Let's investigate the relationship between price and total points to see if you get bang for your buck with goalkeepers."
   ]
  },
  {
   "cell_type": "code",
   "execution_count": 12,
   "id": "d74c9888",
   "metadata": {},
   "outputs": [
    {
     "data": {
      "image/png": "[encoded data removed]",
      "text/plain": [
       "<Figure size 720x432 with 1 Axes>"
      ]
     },
     "metadata": {
      "needs_background": "light"
     },
     "output_type": "display_data"
    }
   ],
   "source": [
    "#scale the value column to reflect prices in the game\n",
    "df['value'] = df['value'] / 10\n",
    "\n",
    "plt.figure(figsize=(10,6))\n",
    "sns.scatterplot(x='value',y='total_points',data=df)\n",
    "plt.show()"
   ]
  },
  {
   "cell_type": "markdown",
   "id": "2a5205b5",
   "metadata": {},
   "source": [
    "As we can see there is very little correlation between value and total_points, later on we may need to consider that it is not worth buying an expensive goalkeeper. \n",
    "\n",
    "To check this lets look at total_points per season for each team's goalkeeper."
   ]
  },
  {
   "cell_type": "code",
   "execution_count": 13,
   "id": "e93dc484",
   "metadata": {},
   "outputs": [
    {
     "data": {
      "text/html": [
       "<div>\n",
       "<style scoped>\n",
       "    .dataframe tbody tr th:only-of-type {\n",
       "        vertical-align: middle;\n",
       "    }\n",
       "\n",
       "    .dataframe tbody tr th {\n",
       "        vertical-align: top;\n",
       "    }\n",
       "\n",
       "    .dataframe thead th {\n",
       "        text-align: right;\n",
       "    }\n",
       "</style>\n",
       "<table border=\"1\" class=\"dataframe\">\n",
       "  <thead>\n",
       "    <tr style=\"text-align: right;\">\n",
       "      <th></th>\n",
       "      <th>team</th>\n",
       "      <th>Season</th>\n",
       "      <th>total_points</th>\n",
       "      <th>value</th>\n",
       "    </tr>\n",
       "  </thead>\n",
       "  <tbody>\n",
       "    <tr>\n",
       "      <th>0</th>\n",
       "      <td>Man Utd</td>\n",
       "      <td>2021-22</td>\n",
       "      <td>2</td>\n",
       "      <td>5.0</td>\n",
       "    </tr>\n",
       "    <tr>\n",
       "      <th>4</th>\n",
       "      <td>Arsenal</td>\n",
       "      <td>2021-22</td>\n",
       "      <td>3</td>\n",
       "      <td>4.9</td>\n",
       "    </tr>\n",
       "    <tr>\n",
       "      <th>10</th>\n",
       "      <td>Spurs</td>\n",
       "      <td>2021-22</td>\n",
       "      <td>7</td>\n",
       "      <td>5.4</td>\n",
       "    </tr>\n",
       "    <tr>\n",
       "      <th>12</th>\n",
       "      <td>Brentford</td>\n",
       "      <td>2021-22</td>\n",
       "      <td>2</td>\n",
       "      <td>4.5</td>\n",
       "    </tr>\n",
       "    <tr>\n",
       "      <th>20</th>\n",
       "      <td>Everton</td>\n",
       "      <td>2021-22</td>\n",
       "      <td>1</td>\n",
       "      <td>5.0</td>\n",
       "    </tr>\n",
       "  </tbody>\n",
       "</table>\n",
       "</div>"
      ],
      "text/plain": [
       "         team   Season  total_points  value\n",
       "0     Man Utd  2021-22             2    5.0\n",
       "4     Arsenal  2021-22             3    4.9\n",
       "10      Spurs  2021-22             7    5.4\n",
       "12  Brentford  2021-22             2    4.5\n",
       "20    Everton  2021-22             1    5.0"
      ]
     },
     "execution_count": 13,
     "metadata": {},
     "output_type": "execute_result"
    }
   ],
   "source": [
    "players = df[['team', 'Season', 'total_points', 'value']]\n",
    "players.head()"
   ]
  },
  {
   "cell_type": "code",
   "execution_count": 14,
   "id": "115a84b9",
   "metadata": {},
   "outputs": [
    {
     "data": {
      "text/html": [
       "<div>\n",
       "<style scoped>\n",
       "    .dataframe tbody tr th:only-of-type {\n",
       "        vertical-align: middle;\n",
       "    }\n",
       "\n",
       "    .dataframe tbody tr th {\n",
       "        vertical-align: top;\n",
       "    }\n",
       "\n",
       "    .dataframe thead th {\n",
       "        text-align: right;\n",
       "    }\n",
       "</style>\n",
       "<table border=\"1\" class=\"dataframe\">\n",
       "  <thead>\n",
       "    <tr style=\"text-align: right;\">\n",
       "      <th></th>\n",
       "      <th>team</th>\n",
       "      <th>Season</th>\n",
       "      <th>total_points</th>\n",
       "      <th>value</th>\n",
       "    </tr>\n",
       "  </thead>\n",
       "  <tbody>\n",
       "    <tr>\n",
       "      <th>38</th>\n",
       "      <td>Fulham</td>\n",
       "      <td>2020-21</td>\n",
       "      <td>2</td>\n",
       "      <td>4.400000</td>\n",
       "    </tr>\n",
       "    <tr>\n",
       "      <th>73</th>\n",
       "      <td>Sheffield Utd</td>\n",
       "      <td>2019-20</td>\n",
       "      <td>3</td>\n",
       "      <td>4.350000</td>\n",
       "    </tr>\n",
       "    <tr>\n",
       "      <th>37</th>\n",
       "      <td>Fulham</td>\n",
       "      <td>2018-19</td>\n",
       "      <td>8</td>\n",
       "      <td>4.500000</td>\n",
       "    </tr>\n",
       "    <tr>\n",
       "      <th>20</th>\n",
       "      <td>Chelsea</td>\n",
       "      <td>2017-18</td>\n",
       "      <td>11</td>\n",
       "      <td>4.800000</td>\n",
       "    </tr>\n",
       "    <tr>\n",
       "      <th>91</th>\n",
       "      <td>West Brom</td>\n",
       "      <td>2018-19</td>\n",
       "      <td>15</td>\n",
       "      <td>4.000000</td>\n",
       "    </tr>\n",
       "    <tr>\n",
       "      <th>...</th>\n",
       "      <td>...</td>\n",
       "      <td>...</td>\n",
       "      <td>...</td>\n",
       "      <td>...</td>\n",
       "    </tr>\n",
       "    <tr>\n",
       "      <th>33</th>\n",
       "      <td>Everton</td>\n",
       "      <td>2018-19</td>\n",
       "      <td>260</td>\n",
       "      <td>4.710145</td>\n",
       "    </tr>\n",
       "    <tr>\n",
       "      <th>97</th>\n",
       "      <td>West Ham</td>\n",
       "      <td>2020-21</td>\n",
       "      <td>267</td>\n",
       "      <td>4.756757</td>\n",
       "    </tr>\n",
       "    <tr>\n",
       "      <th>32</th>\n",
       "      <td>Everton</td>\n",
       "      <td>2017-18</td>\n",
       "      <td>280</td>\n",
       "      <td>4.748684</td>\n",
       "    </tr>\n",
       "    <tr>\n",
       "      <th>62</th>\n",
       "      <td>Man Utd</td>\n",
       "      <td>2019-20</td>\n",
       "      <td>362</td>\n",
       "      <td>5.020213</td>\n",
       "    </tr>\n",
       "    <tr>\n",
       "      <th>59</th>\n",
       "      <td>Man Utd</td>\n",
       "      <td>2016-17</td>\n",
       "      <td>414</td>\n",
       "      <td>4.900000</td>\n",
       "    </tr>\n",
       "  </tbody>\n",
       "</table>\n",
       "<p>103 rows × 4 columns</p>\n",
       "</div>"
      ],
      "text/plain": [
       "             team   Season  total_points     value\n",
       "38         Fulham  2020-21             2  4.400000\n",
       "73  Sheffield Utd  2019-20             3  4.350000\n",
       "37         Fulham  2018-19             8  4.500000\n",
       "20        Chelsea  2017-18            11  4.800000\n",
       "91      West Brom  2018-19            15  4.000000\n",
       "..            ...      ...           ...       ...\n",
       "33        Everton  2018-19           260  4.710145\n",
       "97       West Ham  2020-21           267  4.756757\n",
       "32        Everton  2017-18           280  4.748684\n",
       "62        Man Utd  2019-20           362  5.020213\n",
       "59        Man Utd  2016-17           414  4.900000\n",
       "\n",
       "[103 rows x 4 columns]"
      ]
     },
     "execution_count": 14,
     "metadata": {},
     "output_type": "execute_result"
    }
   ],
   "source": [
    "players = players.groupby(['team', 'Season']).agg({'total_points': 'sum', 'value': 'mean'})\n",
    "players.reset_index(inplace=True)\n",
    "players.sort_values(by='total_points')"
   ]
  },
  {
   "cell_type": "code",
   "execution_count": 15,
   "id": "e0be151b",
   "metadata": {},
   "outputs": [
    {
     "data": {
      "image/png": "[encoded data removed]",
      "text/plain": [
       "<Figure size 720x432 with 1 Axes>"
      ]
     },
     "metadata": {
      "needs_background": "light"
     },
     "output_type": "display_data"
    }
   ],
   "source": [
    "plt.figure(figsize=(10,6))\n",
    "sns.regplot(x='value',y='total_points',data=players)\n",
    "plt.show()"
   ]
  },
  {
   "cell_type": "markdown",
   "id": "0589b3d9",
   "metadata": {},
   "source": [
    "We can see that over the course of a season (Assuming a team stays with same goalkeeper) that there is an increase in total points with price but only a slight increase, also the highest scoring GK's are around the mid price mark of 5m."
   ]
  },
  {
   "cell_type": "markdown",
   "id": "2b58e0db",
   "metadata": {},
   "source": [
    "Let's investigate is it matters which team you get your goalkeeper from."
   ]
  },
  {
   "cell_type": "code",
   "execution_count": 16,
   "id": "5a1c2528",
   "metadata": {},
   "outputs": [
    {
     "name": "stderr",
     "output_type": "stream",
     "text": [
      "C:\\Users\\GV147BE\\Anaconda3\\lib\\site-packages\\seaborn\\distributions.py:2619: FutureWarning: `distplot` is a deprecated function and will be removed in a future version. Please adapt your code to use either `displot` (a figure-level function with similar flexibility) or `histplot` (an axes-level function for histograms).\n",
      "  warnings.warn(msg, FutureWarning)\n"
     ]
    },
    {
     "data": {
      "text/plain": [
       "<AxesSubplot:xlabel='total_points', ylabel='Density'>"
      ]
     },
     "execution_count": 16,
     "metadata": {},
     "output_type": "execute_result"
    },
    {
     "data": {
      "image/png": "[encoded data removed]",
      "text/plain": [
       "<Figure size 1296x432 with 1 Axes>"
      ]
     },
     "metadata": {
      "needs_background": "light"
     },
     "output_type": "display_data"
    }
   ],
   "source": [
    "plt.figure(figsize=(18,6))\n",
    "sns.distplot(players['total_points'])"
   ]
  },
  {
   "cell_type": "code",
   "execution_count": 17,
   "id": "45094140",
   "metadata": {},
   "outputs": [
    {
     "name": "stdout",
     "output_type": "stream",
     "text": [
      "100\n"
     ]
    },
    {
     "data": {
      "text/plain": [
       "Tom Heaton       35\n",
       "David de Gea     35\n",
       "Lee Grant        28\n",
       "Sergio Romero     2\n",
       "Name: name, dtype: int64"
      ]
     },
     "execution_count": 17,
     "metadata": {},
     "output_type": "execute_result"
    }
   ],
   "source": [
    "print(len(df[(df['team']=='Man Utd') & (df['Season']=='2016-17')]))\n",
    "df[(df['team']=='Man Utd') & (df['Season']=='2016-17')]['name'].value_counts()"
   ]
  },
  {
   "cell_type": "markdown",
   "id": "00a5dafc",
   "metadata": {},
   "source": [
    "We can see that the outliers are due to our previous naming convention, where we assign a players most recent team. Let's find all instances of this and correct the team names."
   ]
  },
  {
   "cell_type": "code",
   "execution_count": 31,
   "id": "144e0d62",
   "metadata": {},
   "outputs": [
    {
     "name": "stdout",
     "output_type": "stream",
     "text": [
      "28\n"
     ]
    },
    {
     "data": {
      "text/html": [
       "<div>\n",
       "<style scoped>\n",
       "    .dataframe tbody tr th:only-of-type {\n",
       "        vertical-align: middle;\n",
       "    }\n",
       "\n",
       "    .dataframe tbody tr th {\n",
       "        vertical-align: top;\n",
       "    }\n",
       "\n",
       "    .dataframe thead th {\n",
       "        text-align: right;\n",
       "    }\n",
       "</style>\n",
       "<table border=\"1\" class=\"dataframe\">\n",
       "  <thead>\n",
       "    <tr style=\"text-align: right;\">\n",
       "      <th></th>\n",
       "      <th>team</th>\n",
       "      <th>Season</th>\n",
       "      <th>name</th>\n",
       "    </tr>\n",
       "  </thead>\n",
       "  <tbody>\n",
       "    <tr>\n",
       "      <th>59</th>\n",
       "      <td>Man Utd</td>\n",
       "      <td>2016-17</td>\n",
       "      <td>100</td>\n",
       "    </tr>\n",
       "    <tr>\n",
       "      <th>62</th>\n",
       "      <td>Man Utd</td>\n",
       "      <td>2019-20</td>\n",
       "      <td>94</td>\n",
       "    </tr>\n",
       "    <tr>\n",
       "      <th>32</th>\n",
       "      <td>Everton</td>\n",
       "      <td>2017-18</td>\n",
       "      <td>76</td>\n",
       "    </tr>\n",
       "    <tr>\n",
       "      <th>2</th>\n",
       "      <td>Arsenal</td>\n",
       "      <td>2020-21</td>\n",
       "      <td>74</td>\n",
       "    </tr>\n",
       "    <tr>\n",
       "      <th>97</th>\n",
       "      <td>West Ham</td>\n",
       "      <td>2020-21</td>\n",
       "      <td>74</td>\n",
       "    </tr>\n",
       "    <tr>\n",
       "      <th>33</th>\n",
       "      <td>Everton</td>\n",
       "      <td>2018-19</td>\n",
       "      <td>69</td>\n",
       "    </tr>\n",
       "    <tr>\n",
       "      <th>1</th>\n",
       "      <td>Arsenal</td>\n",
       "      <td>2019-20</td>\n",
       "      <td>67</td>\n",
       "    </tr>\n",
       "    <tr>\n",
       "      <th>14</th>\n",
       "      <td>Burnley</td>\n",
       "      <td>2017-18</td>\n",
       "      <td>62</td>\n",
       "    </tr>\n",
       "    <tr>\n",
       "      <th>93</th>\n",
       "      <td>West Ham</td>\n",
       "      <td>2016-17</td>\n",
       "      <td>59</td>\n",
       "    </tr>\n",
       "    <tr>\n",
       "      <th>81</th>\n",
       "      <td>Spurs</td>\n",
       "      <td>2017-18</td>\n",
       "      <td>56</td>\n",
       "    </tr>\n",
       "    <tr>\n",
       "      <th>82</th>\n",
       "      <td>Spurs</td>\n",
       "      <td>2018-19</td>\n",
       "      <td>55</td>\n",
       "    </tr>\n",
       "    <tr>\n",
       "      <th>87</th>\n",
       "      <td>Watford</td>\n",
       "      <td>2017-18</td>\n",
       "      <td>53</td>\n",
       "    </tr>\n",
       "    <tr>\n",
       "      <th>43</th>\n",
       "      <td>Leicester</td>\n",
       "      <td>2018-19</td>\n",
       "      <td>52</td>\n",
       "    </tr>\n",
       "    <tr>\n",
       "      <th>41</th>\n",
       "      <td>Leicester</td>\n",
       "      <td>2016-17</td>\n",
       "      <td>52</td>\n",
       "    </tr>\n",
       "    <tr>\n",
       "      <th>71</th>\n",
       "      <td>Norwich</td>\n",
       "      <td>2019-20</td>\n",
       "      <td>48</td>\n",
       "    </tr>\n",
       "    <tr>\n",
       "      <th>60</th>\n",
       "      <td>Man Utd</td>\n",
       "      <td>2017-18</td>\n",
       "      <td>45</td>\n",
       "    </tr>\n",
       "    <tr>\n",
       "      <th>21</th>\n",
       "      <td>Chelsea</td>\n",
       "      <td>2018-19</td>\n",
       "      <td>45</td>\n",
       "    </tr>\n",
       "    <tr>\n",
       "      <th>11</th>\n",
       "      <td>Brighton</td>\n",
       "      <td>2020-21</td>\n",
       "      <td>41</td>\n",
       "    </tr>\n",
       "    <tr>\n",
       "      <th>16</th>\n",
       "      <td>Burnley</td>\n",
       "      <td>2019-20</td>\n",
       "      <td>41</td>\n",
       "    </tr>\n",
       "    <tr>\n",
       "      <th>96</th>\n",
       "      <td>West Ham</td>\n",
       "      <td>2019-20</td>\n",
       "      <td>40</td>\n",
       "    </tr>\n",
       "    <tr>\n",
       "      <th>50</th>\n",
       "      <td>Liverpool</td>\n",
       "      <td>2019-20</td>\n",
       "      <td>40</td>\n",
       "    </tr>\n",
       "    <tr>\n",
       "      <th>35</th>\n",
       "      <td>Everton</td>\n",
       "      <td>2020-21</td>\n",
       "      <td>39</td>\n",
       "    </tr>\n",
       "    <tr>\n",
       "      <th>54</th>\n",
       "      <td>Man City</td>\n",
       "      <td>2017-18</td>\n",
       "      <td>39</td>\n",
       "    </tr>\n",
       "    <tr>\n",
       "      <th>56</th>\n",
       "      <td>Man City</td>\n",
       "      <td>2019-20</td>\n",
       "      <td>39</td>\n",
       "    </tr>\n",
       "    <tr>\n",
       "      <th>83</th>\n",
       "      <td>Spurs</td>\n",
       "      <td>2019-20</td>\n",
       "      <td>39</td>\n",
       "    </tr>\n",
       "    <tr>\n",
       "      <th>63</th>\n",
       "      <td>Man Utd</td>\n",
       "      <td>2020-21</td>\n",
       "      <td>39</td>\n",
       "    </tr>\n",
       "    <tr>\n",
       "      <th>101</th>\n",
       "      <td>Wolves</td>\n",
       "      <td>2020-21</td>\n",
       "      <td>39</td>\n",
       "    </tr>\n",
       "    <tr>\n",
       "      <th>23</th>\n",
       "      <td>Chelsea</td>\n",
       "      <td>2020-21</td>\n",
       "      <td>39</td>\n",
       "    </tr>\n",
       "  </tbody>\n",
       "</table>\n",
       "</div>"
      ],
      "text/plain": [
       "          team   Season  name\n",
       "59     Man Utd  2016-17   100\n",
       "62     Man Utd  2019-20    94\n",
       "32     Everton  2017-18    76\n",
       "2      Arsenal  2020-21    74\n",
       "97    West Ham  2020-21    74\n",
       "33     Everton  2018-19    69\n",
       "1      Arsenal  2019-20    67\n",
       "14     Burnley  2017-18    62\n",
       "93    West Ham  2016-17    59\n",
       "81       Spurs  2017-18    56\n",
       "82       Spurs  2018-19    55\n",
       "87     Watford  2017-18    53\n",
       "43   Leicester  2018-19    52\n",
       "41   Leicester  2016-17    52\n",
       "71     Norwich  2019-20    48\n",
       "60     Man Utd  2017-18    45\n",
       "21     Chelsea  2018-19    45\n",
       "11    Brighton  2020-21    41\n",
       "16     Burnley  2019-20    41\n",
       "96    West Ham  2019-20    40\n",
       "50   Liverpool  2019-20    40\n",
       "35     Everton  2020-21    39\n",
       "54    Man City  2017-18    39\n",
       "56    Man City  2019-20    39\n",
       "83       Spurs  2019-20    39\n",
       "63     Man Utd  2020-21    39\n",
       "101     Wolves  2020-21    39\n",
       "23     Chelsea  2020-21    39"
      ]
     },
     "execution_count": 31,
     "metadata": {},
     "output_type": "execute_result"
    }
   ],
   "source": [
    "#first we need to find the goalkeepers with incorrect teams\n",
    "player_check = df[['team', 'Season', 'name']].groupby(by=['team', 'Season']).count().reset_index().sort_values(by='name',ascending=False)\n",
    "print(len(player_check[player_check['name'] > 38]))\n",
    "player_check[player_check['name'] > 38]"
   ]
  },
  {
   "cell_type": "markdown",
   "id": "7c719a45",
   "metadata": {},
   "source": [
    "We need to manually correct 28 Season's team's goalkeepers. Sigh..\n",
    "\n",
    "This is too much effort for one piece of analysis, and we would use the quartile rating system in our final model not specific teams. So let's move on."
   ]
  },
  {
   "cell_type": "code",
   "execution_count": null,
   "id": "c7d26a5a",
   "metadata": {},
   "outputs": [],
   "source": []
  }
 ],
 "metadata": {
  "kernelspec": {
   "display_name": "Python 3 (ipykernel)",
   "language": "python",
   "name": "python3"
  },
  "language_info": {
   "codemirror_mode": {
    "name": "ipython",
    "version": 3
   },
   "file_extension": ".py",
   "mimetype": "text/x-python",
   "name": "python",
   "nbconvert_exporter": "python",
   "pygments_lexer": "ipython3",
   "version": "3.7.11"
  }
 },
 "nbformat": 4,
 "nbformat_minor": 5
}
